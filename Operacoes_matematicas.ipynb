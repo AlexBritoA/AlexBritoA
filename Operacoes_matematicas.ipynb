{
  "nbformat": 4,
  "nbformat_minor": 0,
  "metadata": {
    "colab": {
      "name": "Operacoes_matematicas.ipynb",
      "provenance": [],
      "collapsed_sections": [],
      "authorship_tag": "ABX9TyPs0s4nt8qfvtN5o48m0MB8",
      "include_colab_link": true
    },
    "kernelspec": {
      "name": "python3",
      "display_name": "Python 3"
    },
    "language_info": {
      "name": "python"
    }
  },
  "cells": [
    {
      "cell_type": "markdown",
      "metadata": {
        "id": "view-in-github",
        "colab_type": "text"
      },
      "source": [
        "<a href=\"https://colab.research.google.com/github/AlexBritoA/AlexBritoA/blob/main/Operacoes_matematicas.ipynb\" target=\"_parent\"><img src=\"https://colab.research.google.com/assets/colab-badge.svg\" alt=\"Open In Colab\"/></a>"
      ]
    },
    {
      "cell_type": "code",
      "execution_count": 7,
      "metadata": {
        "colab": {
          "base_uri": "https://localhost:8080/"
        },
        "id": "XTXyO1SdLGyZ",
        "outputId": "3d567699-eebe-4a0b-9ace-cb8c5d403f53"
      },
      "outputs": [
        {
          "output_type": "stream",
          "name": "stdout",
          "text": [
            "160\n",
            "-7948622\n",
            "27.4\n",
            "6370\n",
            "15625\n",
            "1\n"
          ]
        }
      ],
      "source": [
        "# -*- coding: utf-8 -*-\n",
        "# Operações matemáticas\n",
        "\n",
        "#somas\n",
        "print(25+135)\n",
        "#subtração\n",
        "print(598365-8546987)\n",
        "#divisão\n",
        "print(685/25)\n",
        "#multiplicação\n",
        "print(65*98)\n",
        "#potência\n",
        "print(25**3)\n",
        "#módulos\n",
        "print(10%3)\n"
      ]
    }
  ]
}