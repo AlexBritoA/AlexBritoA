{
  "nbformat": 4,
  "nbformat_minor": 0,
  "metadata": {
    "colab": {
      "name": "DeclarandoVariaveis.ipynb",
      "provenance": [],
      "collapsed_sections": [],
      "authorship_tag": "ABX9TyPlTiBG9QckohybqHMh0uJw",
      "include_colab_link": true
    },
    "kernelspec": {
      "name": "python3",
      "display_name": "Python 3"
    },
    "language_info": {
      "name": "python"
    }
  },
  "cells": [
    {
      "cell_type": "markdown",
      "metadata": {
        "id": "view-in-github",
        "colab_type": "text"
      },
      "source": [
        "<a href=\"https://colab.research.google.com/github/AlexBritoA/AlexBritoA/blob/main/DeclarandoVariaveis.ipynb\" target=\"_parent\"><img src=\"https://colab.research.google.com/assets/colab-badge.svg\" alt=\"Open In Colab\"/></a>"
      ]
    },
    {
      "cell_type": "code",
      "execution_count": 4,
      "metadata": {
        "colab": {
          "base_uri": "https://localhost:8080/"
        },
        "id": "yq4MPK8QRCgS",
        "outputId": "618eee42-ef49-4c5d-9942-eb8cc4c113f7"
      },
      "outputs": [
        {
          "output_type": "stream",
          "name": "stdout",
          "text": [
            "520\n",
            "23.5\n",
            "texto exemplo\n",
            "False\n"
          ]
        }
      ],
      "source": [
        "# -*- coding: utf-8 *-*\n",
        "#Declarando variáveis\n",
        "\n",
        "var1 = 520 # variável do tipo inteira\n",
        "var2 = 23.5 #variável do tipo float\n",
        "var3 = (\"texto exemplo\") #variável tipo string\n",
        "varFalse = False #variável tipo boolean\n",
        "\n",
        "print (var1)\n",
        "print (var2)\n",
        "print (var3)\n",
        "print (varFalse)\n"
      ]
    }
  ]
}